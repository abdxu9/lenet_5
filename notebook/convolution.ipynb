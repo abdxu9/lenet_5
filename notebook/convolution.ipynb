{
 "cells": [
  {
   "cell_type": "code",
   "execution_count": null,
   "id": "a743416e",
   "metadata": {},
   "outputs": [],
   "source": []
  },
  {
   "cell_type": "markdown",
   "id": "4419307d",
   "metadata": {},
   "source": [
    "# Convalution examples"
   ]
  },
  {
   "cell_type": "code",
   "execution_count": 29,
   "id": "81551387",
   "metadata": {},
   "outputs": [
    {
     "name": "stdout",
     "output_type": "stream",
     "text": [
      "[1. 2. 3.]\n"
     ]
    }
   ],
   "source": [
    "import numpy as np \n",
    "\n",
    "array = np.array([1.0, 2.0, 3.0])\n",
    "print(array)\n",
    "\n",
    "filter_1 = np.array([2])\n"
   ]
  },
  {
   "cell_type": "markdown",
   "id": "57e637d8",
   "metadata": {},
   "source": [
    "Let's try to see convolution in 1D with a scalar. The scalar needs to slide over each element of the array."
   ]
  },
  {
   "cell_type": "code",
   "execution_count": 30,
   "id": "8a5b7560",
   "metadata": {},
   "outputs": [
    {
     "name": "stdout",
     "output_type": "stream",
     "text": [
      "[np.float64(2.0), np.float64(4.0), np.float64(6.0)]\n"
     ]
    }
   ],
   "source": [
    "output = [np.sum(array[i:i+len(filter_1)] * filter_1) for i in range(len(array) - len(filter_1) + 1)]\n",
    "print(output)"
   ]
  },
  {
   "cell_type": "markdown",
   "id": "d5e8379b",
   "metadata": {},
   "source": [
    "Let's now see the convolution performed between two arrays.\""
   ]
  },
  {
   "cell_type": "code",
   "execution_count": null,
   "id": "9f005356",
   "metadata": {},
   "outputs": [
    {
     "name": "stdout",
     "output_type": "stream",
     "text": [
      "[38. 54. 70.]\n"
     ]
    }
   ],
   "source": [
    "import numpy as np\n",
    "\n",
    "array = np.array([1., 2., 3., 4., 5.])\n",
    "filter_1 = np.array([2., 6., 8.])\n",
    "\n",
    "# Draw for this result array.shape[0] - filter_1.shape[0] + 1) and find the pattern\n",
    "\n",
    "output = np.array([array[i:i+filter_1.shape[0]] for i in range(array.shape[0] - filter_1.shape[0] + 1)])\n",
    "\n",
    "output = np.sum(output * filter_1, axis = 1)\n",
    "print(output)"
   ]
  },
  {
   "cell_type": "code",
   "execution_count": null,
   "id": "157d8722",
   "metadata": {},
   "outputs": [
    {
     "name": "stdout",
     "output_type": "stream",
     "text": [
      "[38. 54. 70.]\n"
     ]
    }
   ],
   "source": [
    "import numpy as np\n",
    "\n",
    "array = np.array([1., 2., 3., 4., 5.])\n",
    "filter_1 = np.array([2., 6., 8.])\n",
    "\n",
    "output = np.zeros(array.shape[0] - filter_1.shape[0] + 1)\n",
    "for i in range(len(output)):\n",
    "    region = array[i:i+len(filter_1)]\n",
    "    output[i] = np.sum(region * filter_1)\n",
    "\n",
    "print(output)  # [38. 54. 70.]\n"
   ]
  },
  {
   "cell_type": "markdown",
   "id": "43de1de2",
   "metadata": {},
   "source": [
    "Let's see the convolution between an array and a matrix."
   ]
  },
  {
   "cell_type": "code",
   "execution_count": null,
   "id": "c111e3dc",
   "metadata": {},
   "outputs": [
    {
     "name": "stdout",
     "output_type": "stream",
     "text": [
      "(2, 5)\n",
      "(3,)\n",
      "[1. 2. 3.]\n",
      "[2. 3. 4.]\n",
      "[3. 4. 5.]\n",
      "[6. 7. 8.]\n",
      "[7. 8. 9.]\n",
      "[ 8.  9. 10.]\n",
      "[[ 38.  54.  70.]\n",
      " [118. 134. 150.]]\n"
     ]
    }
   ],
   "source": [
    "import numpy as np \n",
    "\n",
    "array = np.array([[1., 2., 3., 4., 5.],[6. ,7., 8., 9., 10.]]) # to keep the element wise operation\n",
    "print(array.shape)\n",
    "filter_1 = np.array([2., 6., 8.])\n",
    "print(filter_1.shape)\n",
    "output_shape = (array.shape[0], array.shape[1] - filter_1.shape[0] + 1)\n",
    "output = np.zeros(output_shape)\n",
    "\n",
    "for i in range(array.shape[0]):\n",
    "    for j in range(array.shape[1] - filter_1.shape[0] + 1 ):\n",
    "        region = array[i, j:j + filter_1.shape[0]]\n",
    "        output[i,j] = np.sum(region * filter_1)\n",
    "print(output)\n"
   ]
  },
  {
   "cell_type": "markdown",
   "id": "a0336106",
   "metadata": {},
   "source": [
    "Let's see the convolution between two matrices."
   ]
  },
  {
   "cell_type": "code",
   "execution_count": 32,
   "id": "f60a41dd",
   "metadata": {},
   "outputs": [
    {
     "name": "stdout",
     "output_type": "stream",
     "text": [
      "(2, 5)\n",
      "(2, 3)\n",
      "[[156. 188. 220.]]\n"
     ]
    }
   ],
   "source": [
    "import numpy as np \n",
    "\n",
    "array = np.array([[1., 2., 3., 4., 5.],[6. ,7., 8., 9., 10.]]) # to keep the element wise operation\n",
    "print(array.shape)\n",
    "filter_1 = np.array([[2., 6., 8.],[2., 6., 8.]])\n",
    "print(filter_1.shape)\n",
    "output_shape = (array.shape[0] - filter_1.shape[0] + 1, array.shape[1] - filter_1.shape[1] + 1)\n",
    "output = np.zeros(output_shape)\n",
    "\n",
    "for i in range(array.shape[0] - filter_1.shape[0] + 1): # On rows\n",
    "    for j in range(array.shape[1] - filter_1.shape[1] + 1 ): # On columns\n",
    "        region = array[i:i+ filter_1.shape[0], j:j + filter_1.shape[1]]\n",
    "        output[i,j] = np.sum(region * filter_1)\n",
    "print(output)"
   ]
  },
  {
   "cell_type": "markdown",
   "id": "e28ffbfd",
   "metadata": {},
   "source": [
    "# Performing convolution on images using NumPy and sklearn"
   ]
  },
  {
   "cell_type": "code",
   "execution_count": 32,
   "id": "1f599db1",
   "metadata": {},
   "outputs": [],
   "source": [
    "from sklearn.datasets import fetch_openml"
   ]
  },
  {
   "cell_type": "code",
   "execution_count": 33,
   "id": "4a0d6db9",
   "metadata": {},
   "outputs": [],
   "source": [
    "mnist = fetch_openml('mnist_784', version=1)\n",
    "X = mnist.data.to_numpy()\n",
    "y = mnist.target.to_numpy().astype('int')"
   ]
  },
  {
   "cell_type": "code",
   "execution_count": 34,
   "id": "64884a44",
   "metadata": {},
   "outputs": [
    {
     "name": "stdout",
     "output_type": "stream",
     "text": [
      "(70000, 784)\n",
      "[  0   0   0   0   0   0   0   0   0   0   0   0   0   0   0   0   0   0\n",
      "   0   0   0   0   0   0   0   0   0   0   0   0   0   0   0   0   0   0\n",
      "   0   0   0   0   0   0   0   0   0   0   0   0   0   0   0   0   0   0\n",
      "   0   0   0   0   0   0   0   0   0   0   0   0   0   0   0   0   0   0\n",
      "   0   0   0   0   0   0   0   0   0   0   0   0   0   0   0   0   0   0\n",
      "   0   0   0   0   0   0   0   0   0   0   0   0   0   0   0   0   0   0\n",
      "   0   0   0   0   0   0   0   0   0   0   0   0   0   0   0   0   0   0\n",
      "   0   0   0   0   0   0   0   0   0   0   0   0   0   0   0   0   0   0\n",
      "   0   0   0   0   0   0   0   0   3  18  18  18 126 136 175  26 166 255\n",
      " 247 127   0   0   0   0   0   0   0   0   0   0   0   0  30  36  94 154\n",
      " 170 253 253 253 253 253 225 172 253 242 195  64   0   0   0   0   0   0\n",
      "   0   0   0   0   0  49 238 253 253 253 253 253 253 253 253 251  93  82\n",
      "  82  56  39   0   0   0   0   0   0   0   0   0   0   0   0  18 219 253\n",
      " 253 253 253 253 198 182 247 241   0   0   0   0   0   0   0   0   0   0\n",
      "   0   0   0   0   0   0   0   0  80 156 107 253 253 205  11   0  43 154\n",
      "   0   0   0   0   0   0   0   0   0   0   0   0   0   0   0   0   0   0\n",
      "   0  14   1 154 253  90   0   0   0   0   0   0   0   0   0   0   0   0\n",
      "   0   0   0   0   0   0   0   0   0   0   0   0   0 139 253 190   2   0\n",
      "   0   0   0   0   0   0   0   0   0   0   0   0   0   0   0   0   0   0\n",
      "   0   0   0   0   0  11 190 253  70   0   0   0   0   0   0   0   0   0\n",
      "   0   0   0   0   0   0   0   0   0   0   0   0   0   0   0   0  35 241\n",
      " 225 160 108   1   0   0   0   0   0   0   0   0   0   0   0   0   0   0\n",
      "   0   0   0   0   0   0   0   0   0  81 240 253 253 119  25   0   0   0\n",
      "   0   0   0   0   0   0   0   0   0   0   0   0   0   0   0   0   0   0\n",
      "   0   0  45 186 253 253 150  27   0   0   0   0   0   0   0   0   0   0\n",
      "   0   0   0   0   0   0   0   0   0   0   0   0   0  16  93 252 253 187\n",
      "   0   0   0   0   0   0   0   0   0   0   0   0   0   0   0   0   0   0\n",
      "   0   0   0   0   0   0   0 249 253 249  64   0   0   0   0   0   0   0\n",
      "   0   0   0   0   0   0   0   0   0   0   0   0   0   0  46 130 183 253\n",
      " 253 207   2   0   0   0   0   0   0   0   0   0   0   0   0   0   0   0\n",
      "   0   0   0   0  39 148 229 253 253 253 250 182   0   0   0   0   0   0\n",
      "   0   0   0   0   0   0   0   0   0   0   0   0  24 114 221 253 253 253\n",
      " 253 201  78   0   0   0   0   0   0   0   0   0   0   0   0   0   0   0\n",
      "   0   0  23  66 213 253 253 253 253 198  81   2   0   0   0   0   0   0\n",
      "   0   0   0   0   0   0   0   0   0   0  18 171 219 253 253 253 253 195\n",
      "  80   9   0   0   0   0   0   0   0   0   0   0   0   0   0   0   0   0\n",
      "  55 172 226 253 253 253 253 244 133  11   0   0   0   0   0   0   0   0\n",
      "   0   0   0   0   0   0   0   0   0   0 136 253 253 253 212 135 132  16\n",
      "   0   0   0   0   0   0   0   0   0   0   0   0   0   0   0   0   0   0\n",
      "   0   0   0   0   0   0   0   0   0   0   0   0   0   0   0   0   0   0\n",
      "   0   0   0   0   0   0   0   0   0   0   0   0   0   0   0   0   0   0\n",
      "   0   0   0   0   0   0   0   0   0   0   0   0   0   0   0   0   0   0\n",
      "   0   0   0   0   0   0   0   0   0   0   0   0   0   0   0   0   0   0\n",
      "   0   0   0   0   0   0   0   0   0   0]\n"
     ]
    }
   ],
   "source": [
    "print(X.shape) # nb_images, features 28*28\n",
    "\n",
    "print(X[0,:])"
   ]
  },
  {
   "cell_type": "code",
   "execution_count": 35,
   "id": "84738b1c",
   "metadata": {},
   "outputs": [
    {
     "data": {
      "image/png": "[encoded data removed]",
      "text/plain": [
       "<Figure size 640x480 with 1 Axes>"
      ]
     },
     "metadata": {},
     "output_type": "display_data"
    }
   ],
   "source": [
    "import matplotlib.pyplot as plt\n",
    "\n",
    "plt.imshow(X[0, :].reshape(28, 28), cmap='gray')\n",
    "plt.title(f\"Label: {y[0]}\")\n",
    "plt.show()"
   ]
  },
  {
   "cell_type": "code",
   "execution_count": 36,
   "id": "1e0cc447",
   "metadata": {},
   "outputs": [
    {
     "name": "stdout",
     "output_type": "stream",
     "text": [
      "[[0.000000e+00 0.000000e+00 0.000000e+00 0.000000e+00 0.000000e+00\n",
      "  0.000000e+00 0.000000e+00 0.000000e+00 0.000000e+00 0.000000e+00\n",
      "  0.000000e+00 0.000000e+00 0.000000e+00 0.000000e+00 0.000000e+00\n",
      "  0.000000e+00 0.000000e+00 0.000000e+00 0.000000e+00 0.000000e+00\n",
      "  0.000000e+00 0.000000e+00 0.000000e+00 0.000000e+00 0.000000e+00\n",
      "  0.000000e+00]\n",
      " [0.000000e+00 0.000000e+00 0.000000e+00 0.000000e+00 0.000000e+00\n",
      "  0.000000e+00 0.000000e+00 0.000000e+00 0.000000e+00 0.000000e+00\n",
      "  0.000000e+00 0.000000e+00 0.000000e+00 0.000000e+00 0.000000e+00\n",
      "  0.000000e+00 0.000000e+00 0.000000e+00 0.000000e+00 0.000000e+00\n",
      "  0.000000e+00 0.000000e+00 0.000000e+00 0.000000e+00 0.000000e+00\n",
      "  0.000000e+00]\n",
      " [0.000000e+00 0.000000e+00 0.000000e+00 0.000000e+00 0.000000e+00\n",
      "  0.000000e+00 0.000000e+00 0.000000e+00 0.000000e+00 0.000000e+00\n",
      "  0.000000e+00 0.000000e+00 0.000000e+00 0.000000e+00 0.000000e+00\n",
      "  0.000000e+00 0.000000e+00 0.000000e+00 0.000000e+00 0.000000e+00\n",
      "  0.000000e+00 0.000000e+00 0.000000e+00 0.000000e+00 0.000000e+00\n",
      "  0.000000e+00]\n",
      " [0.000000e+00 0.000000e+00 0.000000e+00 0.000000e+00 0.000000e+00\n",
      "  0.000000e+00 0.000000e+00 0.000000e+00 0.000000e+00 0.000000e+00\n",
      "  1.875000e-01 1.500000e+00 3.562500e+00 4.500000e+00 1.125000e+01\n",
      "  2.537500e+01 3.581250e+01 3.200000e+01 2.456250e+01 3.831250e+01\n",
      "  5.768750e+01 5.475000e+01 3.131250e+01 7.937500e+00 0.000000e+00\n",
      "  0.000000e+00]\n",
      " [0.000000e+00 0.000000e+00 0.000000e+00 0.000000e+00 0.000000e+00\n",
      "  0.000000e+00 1.875000e+00 6.000000e+00 1.225000e+01 2.362500e+01\n",
      "  3.612500e+01 4.968750e+01 6.518750e+01 7.225000e+01 8.575000e+01\n",
      "  1.140000e+02 1.331250e+02 1.186875e+02 1.005000e+02 1.341250e+02\n",
      "  1.736250e+02 1.530000e+02 8.281250e+01 1.987500e+01 0.000000e+00\n",
      "  0.000000e+00]\n",
      " [0.000000e+00 0.000000e+00 0.000000e+00 0.000000e+00 0.000000e+00\n",
      "  3.062500e+00 2.475000e+01 6.062500e+01 8.681250e+01 1.105000e+02\n",
      "  1.349375e+02 1.581250e+02 1.829375e+02 1.942500e+02 2.010000e+02\n",
      "  2.150000e+02 2.118125e+02 1.738125e+02 1.485000e+02 1.721875e+02\n",
      "  1.887500e+02 1.501250e+02 7.412500e+01 1.593750e+01 0.000000e+00\n",
      "  0.000000e+00]\n",
      " [0.000000e+00 0.000000e+00 0.000000e+00 0.000000e+00 0.000000e+00\n",
      "  7.250000e+00 5.981250e+01 1.475625e+02 1.980000e+02 2.133750e+02\n",
      "  2.255000e+02 2.364375e+02 2.443750e+02 2.416875e+02 2.403125e+02\n",
      "  2.468125e+02 2.130625e+02 1.346250e+02 9.375000e+01 9.525000e+01\n",
      "  8.737500e+01 6.025000e+01 2.506250e+01 4.000000e+00 0.000000e+00\n",
      "  0.000000e+00]\n",
      " [0.000000e+00 0.000000e+00 0.000000e+00 0.000000e+00 0.000000e+00\n",
      "  5.312500e+00 5.787500e+01 1.570000e+02 2.157500e+02 2.286875e+02\n",
      "  2.438750e+02 2.500000e+02 2.250000e+02 1.813125e+02 1.677500e+02\n",
      "  1.927500e+02 1.660625e+02 7.218750e+01 2.118750e+01 1.887500e+01\n",
      "  1.456250e+01 8.375000e+00 2.437500e+00 0.000000e+00 0.000000e+00\n",
      "  0.000000e+00]\n",
      " [0.000000e+00 0.000000e+00 0.000000e+00 0.000000e+00 0.000000e+00\n",
      "  1.125000e+00 2.593750e+01 8.468750e+01 1.253125e+02 1.517500e+02\n",
      "  2.066250e+02 2.306250e+02 1.711250e+02 8.593750e+01 5.731250e+01\n",
      "  8.731250e+01 8.943750e+01 3.431250e+01 0.000000e+00 0.000000e+00\n",
      "  0.000000e+00 0.000000e+00 0.000000e+00 0.000000e+00 0.000000e+00\n",
      "  0.000000e+00]\n",
      " [0.000000e+00 0.000000e+00 0.000000e+00 0.000000e+00 0.000000e+00\n",
      "  0.000000e+00 5.000000e+00 2.150000e+01 3.481250e+01 6.887500e+01\n",
      "  1.575625e+02 2.061875e+02 1.359375e+02 3.756250e+01 3.500000e+00\n",
      "  1.500000e+01 2.193750e+01 9.625000e+00 0.000000e+00 0.000000e+00\n",
      "  0.000000e+00 0.000000e+00 0.000000e+00 0.000000e+00 0.000000e+00\n",
      "  0.000000e+00]\n",
      " [0.000000e+00 0.000000e+00 0.000000e+00 0.000000e+00 0.000000e+00\n",
      "  0.000000e+00 0.000000e+00 8.750000e-01 1.812500e+00 2.868750e+01\n",
      "  1.147500e+02 1.915000e+02 1.543125e+02 5.443750e+01 4.625000e+00\n",
      "  0.000000e+00 0.000000e+00 0.000000e+00 0.000000e+00 0.000000e+00\n",
      "  0.000000e+00 0.000000e+00 0.000000e+00 0.000000e+00 0.000000e+00\n",
      "  0.000000e+00]\n",
      " [0.000000e+00 0.000000e+00 0.000000e+00 0.000000e+00 0.000000e+00\n",
      "  0.000000e+00 0.000000e+00 0.000000e+00 0.000000e+00 1.006250e+01\n",
      "  6.187500e+01 1.521250e+02 1.818125e+02 1.144375e+02 4.968750e+01\n",
      "  2.356250e+01 6.875000e+00 6.250000e-02 0.000000e+00 0.000000e+00\n",
      "  0.000000e+00 0.000000e+00 0.000000e+00 0.000000e+00 0.000000e+00\n",
      "  0.000000e+00]\n",
      " [0.000000e+00 0.000000e+00 0.000000e+00 0.000000e+00 0.000000e+00\n",
      "  0.000000e+00 0.000000e+00 0.000000e+00 0.000000e+00 6.875000e-01\n",
      "  1.762500e+01 8.418750e+01 1.657500e+02 1.818125e+02 1.484375e+02\n",
      "  1.020000e+02 4.600000e+01 1.068750e+01 1.562500e+00 0.000000e+00\n",
      "  0.000000e+00 0.000000e+00 0.000000e+00 0.000000e+00 0.000000e+00\n",
      "  0.000000e+00]\n",
      " [0.000000e+00 0.000000e+00 0.000000e+00 0.000000e+00 0.000000e+00\n",
      "  0.000000e+00 0.000000e+00 0.000000e+00 0.000000e+00 0.000000e+00\n",
      "  2.187500e+00 2.956250e+01 9.943750e+01 1.721875e+02 2.075625e+02\n",
      "  1.923750e+02 1.281875e+02 5.743750e+01 1.587500e+01 1.687500e+00\n",
      "  0.000000e+00 0.000000e+00 0.000000e+00 0.000000e+00 0.000000e+00\n",
      "  0.000000e+00]\n",
      " [0.000000e+00 0.000000e+00 0.000000e+00 0.000000e+00 0.000000e+00\n",
      "  0.000000e+00 0.000000e+00 0.000000e+00 0.000000e+00 0.000000e+00\n",
      "  0.000000e+00 5.062500e+00 3.075000e+01 8.637500e+01 1.540000e+02\n",
      "  2.013750e+02 1.990000e+02 1.421250e+02 6.625000e+01 1.506250e+01\n",
      "  0.000000e+00 0.000000e+00 0.000000e+00 0.000000e+00 0.000000e+00\n",
      "  0.000000e+00]\n",
      " [0.000000e+00 0.000000e+00 0.000000e+00 0.000000e+00 0.000000e+00\n",
      "  0.000000e+00 0.000000e+00 0.000000e+00 0.000000e+00 0.000000e+00\n",
      "  0.000000e+00 0.000000e+00 2.812500e+00 1.925000e+01 5.750000e+01\n",
      "  1.313750e+02 2.100000e+02 2.171250e+02 1.420625e+02 4.862500e+01\n",
      "  4.000000e+00 0.000000e+00 0.000000e+00 0.000000e+00 0.000000e+00\n",
      "  0.000000e+00]\n",
      " [0.000000e+00 0.000000e+00 0.000000e+00 0.000000e+00 0.000000e+00\n",
      "  0.000000e+00 0.000000e+00 0.000000e+00 0.000000e+00 0.000000e+00\n",
      "  0.000000e+00 0.000000e+00 2.875000e+00 1.487500e+01 3.837500e+01\n",
      "  1.063125e+02 2.058750e+02 2.449375e+02 1.828750e+02 7.200000e+01\n",
      "  8.125000e+00 0.000000e+00 0.000000e+00 0.000000e+00 0.000000e+00\n",
      "  0.000000e+00]\n",
      " [0.000000e+00 0.000000e+00 0.000000e+00 0.000000e+00 0.000000e+00\n",
      "  0.000000e+00 0.000000e+00 0.000000e+00 0.000000e+00 0.000000e+00\n",
      "  2.437500e+00 1.412500e+01 4.100000e+01 8.143750e+01 1.228750e+02\n",
      "  1.724375e+02 2.277500e+02 2.419375e+02 1.729375e+02 6.131250e+01\n",
      "  4.250000e+00 0.000000e+00 0.000000e+00 0.000000e+00 0.000000e+00\n",
      "  0.000000e+00]\n",
      " [0.000000e+00 0.000000e+00 0.000000e+00 0.000000e+00 0.000000e+00\n",
      "  0.000000e+00 0.000000e+00 0.000000e+00 1.500000e+00 1.012500e+01\n",
      "  3.443750e+01 7.881250e+01 1.346250e+02 1.845000e+02 2.173125e+02\n",
      "  2.333125e+02 2.308125e+02 1.995625e+02 1.234375e+02 3.593750e+01\n",
      "  1.250000e-01 0.000000e+00 0.000000e+00 0.000000e+00 0.000000e+00\n",
      "  0.000000e+00]\n",
      " [0.000000e+00 0.000000e+00 0.000000e+00 0.000000e+00 0.000000e+00\n",
      "  0.000000e+00 1.437500e+00 7.000000e+00 2.600000e+01 6.681250e+01\n",
      "  1.223125e+02 1.785000e+02 2.210000e+02 2.400000e+02 2.338750e+02\n",
      "  2.058750e+02 1.600000e+02 1.031875e+02 4.812500e+01 1.137500e+01\n",
      "  0.000000e+00 0.000000e+00 0.000000e+00 0.000000e+00 0.000000e+00\n",
      "  0.000000e+00]\n",
      " [0.000000e+00 0.000000e+00 0.000000e+00 0.000000e+00 1.125000e+00\n",
      "  1.293750e+01 3.906250e+01 6.787500e+01 1.086250e+02 1.665000e+02\n",
      "  2.143125e+02 2.366875e+02 2.329375e+02 2.056250e+02 1.606250e+02\n",
      "  1.058125e+02 5.643750e+01 2.256250e+01 4.875000e+00 0.000000e+00\n",
      "  0.000000e+00 0.000000e+00 0.000000e+00 0.000000e+00 0.000000e+00\n",
      "  0.000000e+00]\n",
      " [0.000000e+00 0.000000e+00 3.437500e+00 1.762500e+01 4.131250e+01\n",
      "  8.068750e+01 1.353750e+02 1.780000e+02 2.085000e+02 2.357500e+02\n",
      "  2.418750e+02 2.150625e+02 1.633125e+02 1.060000e+02 5.787500e+01\n",
      "  2.375000e+01 5.312500e+00 1.250000e-01 0.000000e+00 0.000000e+00\n",
      "  0.000000e+00 0.000000e+00 0.000000e+00 0.000000e+00 0.000000e+00\n",
      "  0.000000e+00]\n",
      " [0.000000e+00 0.000000e+00 1.537500e+01 6.806250e+01 1.351875e+02\n",
      "  1.858125e+02 2.200000e+02 2.311250e+02 2.260000e+02 2.145625e+02\n",
      "  1.827500e+02 1.257500e+02 6.456250e+01 2.412500e+01 6.125000e+00\n",
      "  5.625000e-01 0.000000e+00 0.000000e+00 0.000000e+00 0.000000e+00\n",
      "  0.000000e+00 0.000000e+00 0.000000e+00 0.000000e+00 0.000000e+00\n",
      "  0.000000e+00]\n",
      " [0.000000e+00 0.000000e+00 2.043750e+01 8.325000e+01 1.509375e+02\n",
      "  1.813125e+02 1.829375e+02 1.647500e+02 1.400000e+02 1.145625e+02\n",
      "  7.512500e+01 3.456250e+01 9.687500e+00 6.875000e-01 0.000000e+00\n",
      "  0.000000e+00 0.000000e+00 0.000000e+00 0.000000e+00 0.000000e+00\n",
      "  0.000000e+00 0.000000e+00 0.000000e+00 0.000000e+00 0.000000e+00\n",
      "  0.000000e+00]\n",
      " [0.000000e+00 0.000000e+00 8.500000e+00 3.281250e+01 5.593750e+01\n",
      "  6.325000e+01 6.068750e+01 5.075000e+01 3.837500e+01 2.593750e+01\n",
      "  1.025000e+01 1.000000e+00 0.000000e+00 0.000000e+00 0.000000e+00\n",
      "  0.000000e+00 0.000000e+00 0.000000e+00 0.000000e+00 0.000000e+00\n",
      "  0.000000e+00 0.000000e+00 0.000000e+00 0.000000e+00 0.000000e+00\n",
      "  0.000000e+00]\n",
      " [0.000000e+00 0.000000e+00 0.000000e+00 0.000000e+00 0.000000e+00\n",
      "  0.000000e+00 0.000000e+00 0.000000e+00 0.000000e+00 0.000000e+00\n",
      "  0.000000e+00 0.000000e+00 0.000000e+00 0.000000e+00 0.000000e+00\n",
      "  0.000000e+00 0.000000e+00 0.000000e+00 0.000000e+00 0.000000e+00\n",
      "  0.000000e+00 0.000000e+00 0.000000e+00 0.000000e+00 0.000000e+00\n",
      "  0.000000e+00]]\n"
     ]
    }
   ],
   "source": [
    "import numpy as np\n",
    "filter_blury = np.array([[1/16, 1/8, 1/16],[1/8, 1/4, 1/8],[1/16, 1/8, 1/16]])\n",
    "image = np.reshape(X[0,:], (28,28))\n",
    "\n",
    "output_shape = (image.shape[0] - filter_blury.shape[0] + 1, image.shape[1] - filter_blury.shape[1] + 1)\n",
    "\n",
    "output = np.zeros(output_shape)\n",
    "\n",
    "for i in range(output_shape[0]):\n",
    "    for j in range(output_shape[1]):\n",
    "        region = image[i:i+filter_blury.shape[0], j:j+filter_blury.shape[1]]\n",
    "        output[i, j] = np.sum(region * filter_blury)\n",
    "print(output)"
   ]
  },
  {
   "cell_type": "code",
   "execution_count": 37,
   "id": "82c5e7ef",
   "metadata": {},
   "outputs": [
    {
     "data": {
      "image/png": "[encoded data removed]",
      "text/plain": [
       "<Figure size 640x480 with 1 Axes>"
      ]
     },
     "metadata": {},
     "output_type": "display_data"
    }
   ],
   "source": [
    "import matplotlib.pyplot as plt\n",
    "\n",
    "plt.imshow(output, cmap='gray')\n",
    "plt.title(f\"Label: {y[0]}\")\n",
    "plt.show()"
   ]
  }
 ],
 "metadata": {
  "kernelspec": {
   "display_name": "Python [conda env:base] *",
   "language": "python",
   "name": "conda-base-py"
  },
  "language_info": {
   "codemirror_mode": {
    "name": "ipython",
    "version": 3
   },
   "file_extension": ".py",
   "mimetype": "text/x-python",
   "name": "python",
   "nbconvert_exporter": "python",
   "pygments_lexer": "ipython3",
   "version": "3.13.5"
  }
 },
 "nbformat": 4,
 "nbformat_minor": 5
}
