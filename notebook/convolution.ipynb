{
 "cells": [
  {
   "cell_type": "code",
   "execution_count": null,
   "id": "a743416e",
   "metadata": {},
   "outputs": [],
   "source": []
  },
  {
   "cell_type": "markdown",
   "id": "4419307d",
   "metadata": {},
   "source": [
    "# Convalution examples"
   ]
  },
  {
   "cell_type": "code",
   "execution_count": 5,
   "id": "81551387",
   "metadata": {},
   "outputs": [
    {
     "name": "stdout",
     "output_type": "stream",
     "text": [
      "[1. 2. 3.]\n"
     ]
    }
   ],
   "source": [
    "import numpy as np \n",
    "\n",
    "array = np.array([1.0, 2.0, 3.0])\n",
    "print(array)\n",
    "\n",
    "filter_1 = 2\n"
   ]
  },
  {
   "cell_type": "markdown",
   "id": "57e637d8",
   "metadata": {},
   "source": [
    "Let's try to see the convolution in 1D a with a scalar. The scalar need to translate on each element of the array."
   ]
  },
  {
   "cell_type": "code",
   "execution_count": 6,
   "id": "8a5b7560",
   "metadata": {},
   "outputs": [
    {
     "name": "stdout",
     "output_type": "stream",
     "text": [
      "[2. 4. 6.]\n"
     ]
    }
   ],
   "source": [
    "output = np.array([filter_1 * element for element in array])\n",
    "print(output)"
   ]
  },
  {
   "cell_type": "markdown",
   "id": "d5e8379b",
   "metadata": {},
   "source": [
    "Let's now see the convolution made between two array."
   ]
  },
  {
   "cell_type": "code",
   "execution_count": null,
   "id": "9f005356",
   "metadata": {},
   "outputs": [
    {
     "name": "stdout",
     "output_type": "stream",
     "text": [
      "[38. 54. 70.]\n"
     ]
    }
   ],
   "source": [
    "import numpy as np\n",
    "\n",
    "array = np.array([1., 2., 3., 4., 5.])\n",
    "filter_1 = np.array([2., 6., 8.])\n",
    "\n",
    "# Draw for this result array.shape[0] - filter_1.shape[0] + 1) and find the pattern\n",
    "\n",
    "output = np.array([array[i:i+filter_1.shape[0]] for i in range(array.shape[0] - filter_1.shape[0] + 1)])\n",
    "\n",
    "output = np.sum(output * filter_1, axis = 1)\n",
    "print(output)"
   ]
  },
  {
   "cell_type": "code",
   "execution_count": null,
   "id": "157d8722",
   "metadata": {},
   "outputs": [
    {
     "name": "stdout",
     "output_type": "stream",
     "text": [
      "[38. 54. 70.]\n"
     ]
    }
   ],
   "source": [
    "import numpy as np\n",
    "\n",
    "array = np.array([1., 2., 3., 4., 5.])\n",
    "filter_1 = np.array([2., 6., 8.])\n",
    "\n",
    "output = np.zeros(array.shape[0] - filter_1.shape[0] + 1)\n",
    "for i in range(len(output)):\n",
    "    region = array[i:i+len(filter_1)]\n",
    "    output[i] = np.sum(region * filter_1)\n",
    "\n",
    "print(output)  # [38. 54. 70.]\n"
   ]
  },
  {
   "cell_type": "markdown",
   "id": "43de1de2",
   "metadata": {},
   "source": [
    "let's see between an array and a matrix "
   ]
  },
  {
   "cell_type": "code",
   "execution_count": null,
   "id": "c111e3dc",
   "metadata": {},
   "outputs": [
    {
     "name": "stdout",
     "output_type": "stream",
     "text": [
      "(2, 5)\n",
      "(3,)\n",
      "[1. 2. 3.]\n",
      "[2. 3. 4.]\n",
      "[3. 4. 5.]\n",
      "[6. 7. 8.]\n",
      "[7. 8. 9.]\n",
      "[ 8.  9. 10.]\n",
      "[[ 38.  54.  70.]\n",
      " [118. 134. 150.]]\n"
     ]
    }
   ],
   "source": [
    "import numpy as np \n",
    "\n",
    "array = np.array([[1., 2., 3., 4., 5.],[6. ,7., 8., 9., 10.]]) # to keep the element wise operation\n",
    "print(array.shape)\n",
    "filter_1 = np.array([2., 6., 8.])\n",
    "print(filter_1.shape)\n",
    "output_shape = (array.shape[0], array.shape[1] - filter_1.shape[0] + 1)\n",
    "output = np.zeros(output_shape)\n",
    "\n",
    "for i in range(array.shape[0]):\n",
    "    for j in range(array.shape[1] - filter_1.shape[0] + 1 ):\n",
    "        region = array[i, j:j + filter_1.shape[0]]\n",
    "        output[i,j] = np.sum(region * filter_1)\n",
    "print(output)\n"
   ]
  },
  {
   "cell_type": "markdown",
   "id": "a0336106",
   "metadata": {},
   "source": [
    "let's see between an two matrixs"
   ]
  },
  {
   "cell_type": "code",
   "execution_count": 32,
   "id": "f60a41dd",
   "metadata": {},
   "outputs": [
    {
     "name": "stdout",
     "output_type": "stream",
     "text": [
      "(2, 5)\n",
      "(2, 3)\n",
      "[[156. 188. 220.]]\n"
     ]
    }
   ],
   "source": [
    "import numpy as np \n",
    "\n",
    "array = np.array([[1., 2., 3., 4., 5.],[6. ,7., 8., 9., 10.]]) # to keep the element wise operation\n",
    "print(array.shape)\n",
    "filter_1 = np.array([[2., 6., 8.],[2., 6., 8.]])\n",
    "print(filter_1.shape)\n",
    "output_shape = (array.shape[0] - filter_1.shape[0] + 1, array.shape[1] - filter_1.shape[1] + 1)\n",
    "output = np.zeros(output_shape)\n",
    "\n",
    "for i in range(array.shape[0] - filter_1.shape[0] + 1): # On rows\n",
    "    for j in range(array.shape[1] - filter_1.shape[1] + 1 ): # On columns\n",
    "        region = array[i:i+ filter_1.shape[0], j:j + filter_1.shape[1]]\n",
    "        output[i,j] = np.sum(region * filter_1)\n",
    "print(output)"
   ]
  }
 ],
 "metadata": {
  "kernelspec": {
   "display_name": "Python [conda env:base] *",
   "language": "python",
   "name": "conda-base-py"
  },
  "language_info": {
   "codemirror_mode": {
    "name": "ipython",
    "version": 3
   },
   "file_extension": ".py",
   "mimetype": "text/x-python",
   "name": "python",
   "nbconvert_exporter": "python",
   "pygments_lexer": "ipython3",
   "version": "3.13.5"
  }
 },
 "nbformat": 4,
 "nbformat_minor": 5
}
